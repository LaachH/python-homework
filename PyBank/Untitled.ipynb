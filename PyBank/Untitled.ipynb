{
 "cells": [
  {
   "cell_type": "code",
   "execution_count": 1,
   "id": "e40f9982-5e1d-40fe-9387-4a83e5b8f236",
   "metadata": {},
   "outputs": [
    {
     "ename": "NameError",
     "evalue": "name 'Path' is not defined",
     "output_type": "error",
     "traceback": [
      "\u001b[1;31m---------------------------------------------------------------------------\u001b[0m",
      "\u001b[1;31mNameError\u001b[0m                                 Traceback (most recent call last)",
      "\u001b[1;32m~\\AppData\\Local\\Temp/ipykernel_17284/2487471685.py\u001b[0m in \u001b[0;36m<module>\u001b[1;34m\u001b[0m\n\u001b[0;32m      1\u001b[0m \u001b[1;31m# Set the path file\u001b[0m\u001b[1;33m\u001b[0m\u001b[1;33m\u001b[0m\u001b[1;33m\u001b[0m\u001b[0m\n\u001b[1;32m----> 2\u001b[1;33m \u001b[0mcsvpath\u001b[0m \u001b[1;33m=\u001b[0m \u001b[0mPath\u001b[0m\u001b[1;33m(\u001b[0m\u001b[1;34m'../Resources/budget_data.csv'\u001b[0m\u001b[1;33m)\u001b[0m\u001b[1;33m\u001b[0m\u001b[1;33m\u001b[0m\u001b[0m\n\u001b[0m\u001b[0;32m      3\u001b[0m \u001b[0mbudget_data\u001b[0m \u001b[1;33m=\u001b[0m \u001b[1;33m{\u001b[0m\u001b[1;33m}\u001b[0m\u001b[1;33m\u001b[0m\u001b[1;33m\u001b[0m\u001b[0m\n\u001b[0;32m      4\u001b[0m \u001b[1;31m# create a output file\u001b[0m\u001b[1;33m\u001b[0m\u001b[1;33m\u001b[0m\u001b[1;33m\u001b[0m\u001b[0m\n\u001b[0;32m      5\u001b[0m \u001b[0mfile_to_output\u001b[0m \u001b[1;33m=\u001b[0m \u001b[1;34m\"budget_analysis.txt\"\u001b[0m\u001b[1;33m\u001b[0m\u001b[1;33m\u001b[0m\u001b[0m\n",
      "\u001b[1;31mNameError\u001b[0m: name 'Path' is not defined"
     ]
    }
   ],
   "source": [
    "# Set the path file\n",
    "csvpath = Path('../Resources/budget_data.csv')\n",
    "budget_data = {}\n",
    "# create a output file\n",
    "file_to_output = \"budget_analysis.txt\"\n",
    "#Initialise variables\n",
    "total_months = 0\n",
    "total_revenue = 0\n",
    "previous_revenue = 0\n",
    "revenue_change = 0\n",
    "greatest_increase = [\"\",0]\n",
    "greatest_decrease = [\"\",0]\n",
    "revenue_changes =[]\n",
    "# Open the csv file as a file object\n",
    "with open(csvpath, \"r\") as csvfile:\n",
    "    #Pass in the csv file to the csv.reader() function\n",
    "    # (with ',' as the delimiter/seperator and return the csv reader object\n",
    "    csvreader = csv.reader(csvfile, delimiter=',')\n",
    "    #Go the the next row from the start of the file\n",
    "    # (which is often the first row/header) and iterate line_num by 1\n",
    "    header = next(csvreader)\n",
    "    #Print the header\n",
    "    print(f\"{header} <----HEADER\")\n",
    "    #Reader each row of data after the header\n",
    "    for row in csvreader:\n",
    "    #Print the row\n",
    "        month = row[0]\n",
    "        pnl = row[1]\n",
    "        budget_data[month] = int(pnl)\n",
    "print(budget_data)"
   ]
  },
  {
   "cell_type": "code",
   "execution_count": null,
   "id": "fb17d271-b7e4-4bf9-9259-ad13a0c11be8",
   "metadata": {},
   "outputs": [],
   "source": []
  },
  {
   "cell_type": "code",
   "execution_count": null,
   "id": "6b6f4881-40fa-4ed3-94f0-903c643c3d05",
   "metadata": {},
   "outputs": [],
   "source": []
  },
  {
   "cell_type": "code",
   "execution_count": null,
   "id": "96cf97ec-0b75-492f-825f-4d5319d205e9",
   "metadata": {},
   "outputs": [],
   "source": []
  }
 ],
 "metadata": {
  "kernelspec": {
   "display_name": "Python 3 (ipykernel)",
   "language": "python",
   "name": "python3"
  },
  "language_info": {
   "codemirror_mode": {
    "name": "ipython",
    "version": 3
   },
   "file_extension": ".py",
   "mimetype": "text/x-python",
   "name": "python",
   "nbconvert_exporter": "python",
   "pygments_lexer": "ipython3",
   "version": "3.7.11"
  }
 },
 "nbformat": 4,
 "nbformat_minor": 5
}
