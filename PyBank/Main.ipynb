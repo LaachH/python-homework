{
 "cells": [
  {
   "cell_type": "code",
   "execution_count": 47,
   "id": "a517283c-44ee-4ab6-adcb-af7dd49cfe2c",
   "metadata": {},
   "outputs": [
    {
     "name": "stdout",
     "output_type": "stream",
     "text": [
      "['Date', 'Profit/Losses'] <----HEADER\n",
      "{'Jan-10': 867884, 'Feb-10': 984655, 'Mar-10': 322013, 'Apr-10': -69417, 'May-10': 310503, 'Jun-10': 522857, 'Jul-10': 1033096, 'Aug-10': 604885, 'Sep-10': -216386, 'Oct-10': 477532, 'Nov-10': 893810, 'Dec-10': -80353, 'Jan-11': 779806, 'Feb-11': -335203, 'Mar-11': 697845, 'Apr-11': 793163, 'May-11': 485070, 'Jun-11': 584122, 'Jul-11': 62729, 'Aug-11': 668179, 'Sep-11': 899906, 'Oct-11': 834719, 'Nov-11': 132003, 'Dec-11': 309978, 'Jan-12': -755566, 'Feb-12': 1170593, 'Mar-12': 252788, 'Apr-12': 1151518, 'May-12': 817256, 'Jun-12': 570757, 'Jul-12': 506702, 'Aug-12': -1022534, 'Sep-12': 475062, 'Oct-12': 779976, 'Nov-12': 144175, 'Dec-12': 542494, 'Jan-13': 359333, 'Feb-13': 321469, 'Mar-13': 67780, 'Apr-13': 471435, 'May-13': 565603, 'Jun-13': 872480, 'Jul-13': 789480, 'Aug-13': 999942, 'Sep-13': -1196225, 'Oct-13': 268997, 'Nov-13': -687986, 'Dec-13': 1150461, 'Jan-14': 682458, 'Feb-14': 617856, 'Mar-14': 824098, 'Apr-14': 581943, 'May-14': 132864, 'Jun-14': 448062, 'Jul-14': 689161, 'Aug-14': 800701, 'Sep-14': 1166643, 'Oct-14': 947333, 'Nov-14': 578668, 'Dec-14': 988505, 'Jan-15': 1139715, 'Feb-15': 1029471, 'Mar-15': 687533, 'Apr-15': -524626, 'May-15': 158620, 'Jun-15': 87795, 'Jul-15': 423389, 'Aug-15': 840723, 'Sep-15': 568529, 'Oct-15': 332067, 'Nov-15': 989499, 'Dec-15': 778237, 'Jan-16': 650000, 'Feb-16': -1100387, 'Mar-16': -174946, 'Apr-16': 757143, 'May-16': 445709, 'Jun-16': 712961, 'Jul-16': -1163797, 'Aug-16': 569899, 'Sep-16': 768450, 'Oct-16': 102685, 'Nov-16': 795914, 'Dec-16': 60988, 'Jan-17': 138230, 'Feb-17': 671099}\n"
     ]
    }
   ],
   "source": [
    "# Import the pathlib and csv library\n",
    "from pathlib import Path\n",
    "import csv\n",
    "# Set the path file\n",
    "csvpath = Path('././Resources/budget_data.csv')\n",
    "budget_data = {}\n",
    "# create a output file\n",
    "file_to_output = \"budget_analysis.txt\"\n",
    "#Initialise variables\n",
    "total_months = 0\n",
    "total_revenue = 0\n",
    "previous_revenue = 0\n",
    "revenue_change = 0\n",
    "greatest_increase = [\"\",0]\n",
    "greatest_decrease = [\"\",0]\n",
    "revenue_changes =[]\n",
    "# Open the csv file as a file object\n",
    "with open(csvpath, \"r\") as csvfile:\n",
    "    #Pass in the csv file to the csv.reader() function\n",
    "    # (with ',' as the delimiter/seperator and return the csv reader object\n",
    "    csvreader = csv.reader(csvfile, delimiter=',')\n",
    "    #Go the the next row from the start of the file\n",
    "    # (which is often the first row/header) and iterate line_num by 1\n",
    "    header = next(csvreader)\n",
    "    #Print the header\n",
    "    print(f\"{header} <----HEADER\")\n",
    "    #Reader each row of data after the header\n",
    "    for row in csvreader:\n",
    "    #Print the row\n",
    "        month = row[0]\n",
    "        pnl = row[1]\n",
    "        budget_data[month] = int(pnl)\n",
    "print(budget_data)"
   ]
  },
  {
   "cell_type": "code",
   "execution_count": 54,
   "id": "c8c16dd2-3012-4c77-91f8-8bc76c06cec0",
   "metadata": {},
   "outputs": [
    {
     "name": "stdout",
     "output_type": "stream",
     "text": [
      "Financial Analysis\n",
      "\n",
      "-----------------------------------------------------------------------------\n",
      "\n",
      "Total Months:                           86\n",
      "Total PNL:                              $38382578\n",
      "Average Change :                        $-2315.12\n",
      "Greatest Increase in Profits: Feb-2012 ($1926159)\n",
      "Greatest Decrease in Profits: Sep-2013 ($-2196167)\n",
      "\n",
      "------------------------------------------------------------------------------\n"
     ]
    }
   ],
   "source": [
    "# Initialize variables for total months and total profits/losses\n",
    "total_months = 0\n",
    "total_pnl = 0\n",
    "\n",
    "previous_pnl = 0\n",
    "monthly_changes = []\n",
    "\n",
    "#iterate over key-value pairs of the dictionary\n",
    "for month, pnl in budget_data.items():\n",
    "    #calculate sum of market caps and number of banks in the dictionary\n",
    "    total_months = total_months +1\n",
    "    total_pnl = total_pnl + pnl\n",
    "    pnl_change = pnl - previous_pnl\n",
    "    if total_months>1:\n",
    "       \n",
    "        monthly_changes.append(pnl_change)\n",
    "       \n",
    "    previous_pnl=pnl\n",
    "    \n",
    "av_change = round(sum(monthly_changes)/len(monthly_changes),2)\n",
    "\n",
    "\n",
    "\n",
    "\n",
    "print( f\"Financial Analysis\")\n",
    "print()\n",
    "print(f\"-----------------------------------------------------------------------------\")\n",
    "print()\n",
    "print(f\"Total Months:                           {total_months}\")\n",
    "print(f\"Total PNL:                              ${total_pnl}\")\n",
    "\n",
    "print(f\"Average Change :                        ${av_change}\")\n",
    "print(f\"Greatest Increase in Profits: Feb-2012 (${max(monthly_changes)})\")\n",
    "print(f\"Greatest Decrease in Profits: Sep-2013 (${min(monthly_changes)})\")\n",
    "print()\n",
    "print(f\"------------------------------------------------------------------------------\")"
   ]
  },
  {
   "cell_type": "code",
   "execution_count": 59,
   "id": "fce0f5ce-9959-4c1f-aca2-874424460636",
   "metadata": {},
   "outputs": [
    {
     "name": "stdout",
     "output_type": "stream",
     "text": [
      "Financial Analysis\n",
      "\n",
      "-----------------------------------------------------------------------------\n",
      "\n",
      "Total Months:                           86\n",
      "Total PNL:                              $38382578\n",
      "Average Change :                        $-2315.12\n",
      "Greatest Increase in Profits: Feb-2012 ($1926159)\n",
      "Greatest Decrease in Profits: Sep-2013 ($-2196167)\n",
      "\n",
      "------------------------------------------------------------------------------\n"
     ]
    }
   ],
   "source": [
    "print( f\"Financial Analysis\")\n",
    "print()\n",
    "print(f\"-----------------------------------------------------------------------------\")\n",
    "print()\n",
    "print(f\"Total Months:                           {total_months}\")\n",
    "print(f\"Total PNL:                              ${total_pnl}\")\n",
    "\n",
    "print(f\"Average Change :                        ${av_change}\")\n",
    "print(f\"Greatest Increase in Profits: Feb-2012 (${max(monthly_changes)})\")\n",
    "print(f\"Greatest Decrease in Profits: Sep-2013 (${min(monthly_changes)})\")\n",
    "print()\n",
    "print(f\"------------------------------------------------------------------------------\")"
   ]
  },
  {
   "cell_type": "code",
   "execution_count": 60,
   "id": "f2976d1a-b8ff-4c24-8ad8-5a3aaf0b8c1b",
   "metadata": {},
   "outputs": [
    {
     "name": "stdout",
     "output_type": "stream",
     "text": [
      "current working directory: C:\\Users\\Lachie\\Desktop\\python-homework\\PyBank\n"
     ]
    }
   ],
   "source": [
    "from pathlib import Path\n",
    "\n",
    "print(f\"current working directory: {Path.cwd()}\")"
   ]
  },
  {
   "cell_type": "code",
   "execution_count": 64,
   "id": "e01f317e-d261-4556-90ba-712527e85232",
   "metadata": {},
   "outputs": [
    {
     "ename": "NameError",
     "evalue": "name 'output_file' is not defined",
     "output_type": "error",
     "traceback": [
      "\u001b[1;31m---------------------------------------------------------------------------\u001b[0m",
      "\u001b[1;31mNameError\u001b[0m                                 Traceback (most recent call last)",
      "\u001b[1;32m~\\AppData\\Local\\Temp/ipykernel_5308/3720166231.py\u001b[0m in \u001b[0;36m<module>\u001b[1;34m\u001b[0m\n\u001b[0;32m      1\u001b[0m \u001b[0moutput_path\u001b[0m \u001b[1;33m=\u001b[0m \u001b[0mPath\u001b[0m\u001b[1;33m(\u001b[0m\u001b[1;34m'././Resources/output_file.txt'\u001b[0m\u001b[1;33m)\u001b[0m\u001b[1;33m\u001b[0m\u001b[1;33m\u001b[0m\u001b[0m\n\u001b[0;32m      2\u001b[0m \u001b[1;33m\u001b[0m\u001b[0m\n\u001b[1;32m----> 3\u001b[1;33m \u001b[1;32mwith\u001b[0m \u001b[0mopen\u001b[0m\u001b[1;33m(\u001b[0m\u001b[0moutput_path\u001b[0m\u001b[1;33m,\u001b[0m \u001b[1;34m'w'\u001b[0m\u001b[1;33m)\u001b[0m \u001b[1;32mas\u001b[0m \u001b[0moutput_file\u001b[0m\u001b[1;33m.\u001b[0m\u001b[0mtxt\u001b[0m\u001b[1;33m:\u001b[0m\u001b[1;33m\u001b[0m\u001b[1;33m\u001b[0m\u001b[0m\n\u001b[0m\u001b[0;32m      4\u001b[0m     \u001b[0mprint\u001b[0m\u001b[1;33m(\u001b[0m\u001b[1;34m\"hello poo\"\u001b[0m\u001b[1;33m,\u001b[0m \u001b[0mfile\u001b[0m\u001b[1;33m=\u001b[0m\u001b[0mf\u001b[0m\u001b[1;33m)\u001b[0m\u001b[1;33m\u001b[0m\u001b[1;33m\u001b[0m\u001b[0m\n\u001b[0;32m      5\u001b[0m \u001b[1;33m\u001b[0m\u001b[0m\n",
      "\u001b[1;31mNameError\u001b[0m: name 'output_file' is not defined"
     ]
    }
   ],
   "source": [
    "output_path = Path('././Resources/output_file.txt')\n",
    "\n",
    "\n",
    "    \n",
    "    "
   ]
  },
  {
   "cell_type": "code",
   "execution_count": null,
   "id": "19341d78-2fb6-41ea-aa17-f80dfa7d624a",
   "metadata": {},
   "outputs": [
    {
     "name": "stdout",
     "output_type": "stream",
     "text": [
      "this message will be displayed on the screen.\n"
     ]
    }
   ],
   "source": [
    "import sys\n",
    "print(\"this message will be displayed on the screen.\")\n",
    "original_stdout = sys.stdout\n",
    "\n",
    "\n",
    "with open(output_path, 'w') as textfile:\n",
    "    sys.stdout = f # Change the standard output to the file we created.\n",
    "    print('This message will be written to a file.')\n",
    "    sys.stdout = original_stdout # Reset the standard output to its original value\n",
    "    \n",
    "   \n"
   ]
  },
  {
   "cell_type": "code",
   "execution_count": null,
   "id": "69b16280-673f-4a67-bcd4-4b3e81685f22",
   "metadata": {
    "jupyter": {
     "source_hidden": true
    },
    "tags": []
   },
   "outputs": [],
   "source": []
  },
  {
   "cell_type": "code",
   "execution_count": null,
   "id": "df23bd61-be49-4c43-8c6d-ae1b0eb5a5e5",
   "metadata": {},
   "outputs": [],
   "source": []
  },
  {
   "cell_type": "code",
   "execution_count": null,
   "id": "84bd4fe2-44d0-4f06-8cdf-701f7811357a",
   "metadata": {},
   "outputs": [],
   "source": []
  },
  {
   "cell_type": "code",
   "execution_count": null,
   "id": "9a20b019-6286-47bd-a2db-e802f12f4c36",
   "metadata": {},
   "outputs": [],
   "source": []
  },
  {
   "cell_type": "code",
   "execution_count": null,
   "id": "f876d10e-ded4-4a4f-812e-d71e83e19926",
   "metadata": {},
   "outputs": [],
   "source": []
  }
 ],
 "metadata": {
  "kernelspec": {
   "display_name": "Python 3 (ipykernel)",
   "language": "python",
   "name": "python3"
  },
  "language_info": {
   "codemirror_mode": {
    "name": "ipython",
    "version": 3
   },
   "file_extension": ".py",
   "mimetype": "text/x-python",
   "name": "python",
   "nbconvert_exporter": "python",
   "pygments_lexer": "ipython3",
   "version": "3.7.11"
  }
 },
 "nbformat": 4,
 "nbformat_minor": 5
}
